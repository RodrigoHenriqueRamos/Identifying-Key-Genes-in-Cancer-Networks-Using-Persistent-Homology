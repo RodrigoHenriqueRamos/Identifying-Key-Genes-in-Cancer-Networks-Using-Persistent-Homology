{
 "cells": [
  {
   "cell_type": "code",
   "execution_count": 1,
   "metadata": {},
   "outputs": [],
   "source": [
    "import networkx as nx\n",
    "import pandas as pd\n",
    "import matplotlib.pyplot as plt"
   ]
  },
  {
   "cell_type": "code",
   "execution_count": 2,
   "metadata": {},
   "outputs": [
    {
     "data": {
      "text/plain": [
       "(1857, 5)"
      ]
     },
     "execution_count": 2,
     "metadata": {},
     "output_type": "execute_result"
    }
   ],
   "source": [
    "geneDrugDf = pd.read_csv(\"7 input/gene_drugs.tsv\",sep=\"\\t\")\n",
    "geneDrugDf.shape"
   ]
  },
  {
   "cell_type": "code",
   "execution_count": 3,
   "metadata": {},
   "outputs": [
    {
     "data": {
      "text/plain": [
       "(170, 5)"
      ]
     },
     "execution_count": 3,
     "metadata": {},
     "output_type": "execute_result"
    }
   ],
   "source": [
    "geneDrugDf=geneDrugDf[geneDrugDf['indication'].str.contains('antineoplastic', case=False, na=False)]\n",
    "geneDrugDf.shape"
   ]
  },
  {
   "cell_type": "code",
   "execution_count": 4,
   "metadata": {},
   "outputs": [
    {
     "data": {
      "text/html": [
       "<div>\n",
       "<style scoped>\n",
       "    .dataframe tbody tr th:only-of-type {\n",
       "        vertical-align: middle;\n",
       "    }\n",
       "\n",
       "    .dataframe tbody tr th {\n",
       "        vertical-align: top;\n",
       "    }\n",
       "\n",
       "    .dataframe thead th {\n",
       "        text-align: right;\n",
       "    }\n",
       "</style>\n",
       "<table border=\"1\" class=\"dataframe\">\n",
       "  <thead>\n",
       "    <tr style=\"text-align: right;\">\n",
       "      <th></th>\n",
       "      <th>gene</th>\n",
       "      <th>drug</th>\n",
       "      <th>regulatory approval</th>\n",
       "      <th>indication</th>\n",
       "      <th>interaction score</th>\n",
       "    </tr>\n",
       "  </thead>\n",
       "  <tbody>\n",
       "    <tr>\n",
       "      <th>101</th>\n",
       "      <td>MAPT</td>\n",
       "      <td>RESVERATROL</td>\n",
       "      <td>Approved</td>\n",
       "      <td>antineoplastic agent,antidiabetic,for treatmen...</td>\n",
       "      <td>0.002430</td>\n",
       "    </tr>\n",
       "    <tr>\n",
       "      <th>172</th>\n",
       "      <td>MAPT</td>\n",
       "      <td>DAUNORUBICIN LIPOSOMAL</td>\n",
       "      <td>Approved</td>\n",
       "      <td>antineoplastic agent</td>\n",
       "      <td>0.001308</td>\n",
       "    </tr>\n",
       "    <tr>\n",
       "      <th>210</th>\n",
       "      <td>MAPT</td>\n",
       "      <td>FENRETINIDE</td>\n",
       "      <td>Approved</td>\n",
       "      <td>antineoplastic agent</td>\n",
       "      <td>0.004579</td>\n",
       "    </tr>\n",
       "    <tr>\n",
       "      <th>249</th>\n",
       "      <td>MAPT</td>\n",
       "      <td>GEFITINIB</td>\n",
       "      <td>Approved</td>\n",
       "      <td>antineoplastic agent</td>\n",
       "      <td>0.001751</td>\n",
       "    </tr>\n",
       "    <tr>\n",
       "      <th>357</th>\n",
       "      <td>MAPT</td>\n",
       "      <td>IDARUBICIN</td>\n",
       "      <td>Approved</td>\n",
       "      <td>Antineoplastic Agents</td>\n",
       "      <td>0.002481</td>\n",
       "    </tr>\n",
       "  </tbody>\n",
       "</table>\n",
       "</div>"
      ],
      "text/plain": [
       "     gene                    drug regulatory approval  \\\n",
       "101  MAPT             RESVERATROL            Approved   \n",
       "172  MAPT  DAUNORUBICIN LIPOSOMAL            Approved   \n",
       "210  MAPT             FENRETINIDE            Approved   \n",
       "249  MAPT               GEFITINIB            Approved   \n",
       "357  MAPT              IDARUBICIN            Approved   \n",
       "\n",
       "                                            indication  interaction score  \n",
       "101  antineoplastic agent,antidiabetic,for treatmen...           0.002430  \n",
       "172                               antineoplastic agent           0.001308  \n",
       "210                               antineoplastic agent           0.004579  \n",
       "249                               antineoplastic agent           0.001751  \n",
       "357                              Antineoplastic Agents           0.002481  "
      ]
     },
     "execution_count": 4,
     "metadata": {},
     "output_type": "execute_result"
    }
   ],
   "source": [
    "geneDrugDf.head()"
   ]
  },
  {
   "cell_type": "markdown",
   "metadata": {},
   "source": [
    "# Criante a Network"
   ]
  },
  {
   "cell_type": "code",
   "execution_count": 5,
   "metadata": {},
   "outputs": [],
   "source": [
    "B = nx.Graph()\n",
    "\n",
    "\n",
    "B.add_nodes_from(geneDrugDf['gene'], category='gene') \n",
    "B.add_nodes_from(geneDrugDf['drug'], category='drug') \n",
    "\n",
    "\n",
    "edges = list(zip(geneDrugDf['gene'], geneDrugDf['drug']))\n",
    "B.add_edges_from(edges)\n",
    "\n",
    "\n",
    "output_file = '7 output/bipartite_network.graphml'\n",
    "nx.write_graphml(B, output_file)"
   ]
  },
  {
   "cell_type": "markdown",
   "metadata": {},
   "source": [
    "## Only Aproved Drugs"
   ]
  },
  {
   "cell_type": "code",
   "execution_count": 6,
   "metadata": {},
   "outputs": [],
   "source": [
    "geneDrugDf=geneDrugDf[geneDrugDf[\"regulatory approval\"]==\"Approved\"]\n",
    "B = nx.Graph()\n",
    "\n",
    "\n",
    "B.add_nodes_from(geneDrugDf['gene'], category='gene') \n",
    "B.add_nodes_from(geneDrugDf['drug'], category='drug') \n",
    "\n",
    "\n",
    "edges = list(zip(geneDrugDf['gene'], geneDrugDf['drug']))\n",
    "B.add_edges_from(edges)"
   ]
  },
  {
   "cell_type": "code",
   "execution_count": 7,
   "metadata": {},
   "outputs": [
    {
     "name": "stdout",
     "output_type": "stream",
     "text": [
      "Graph with 89 nodes and 116 edges\n"
     ]
    }
   ],
   "source": [
    "print(B)"
   ]
  },
  {
   "cell_type": "code",
   "execution_count": 8,
   "metadata": {},
   "outputs": [],
   "source": [
    "B=nx.subgraph(B,max(list(nx.connected_components(B)),key=len))"
   ]
  },
  {
   "cell_type": "code",
   "execution_count": 9,
   "metadata": {},
   "outputs": [
    {
     "name": "stdout",
     "output_type": "stream",
     "text": [
      "Graph with 85 nodes and 114 edges\n"
     ]
    }
   ],
   "source": [
    "print(B)"
   ]
  },
  {
   "cell_type": "code",
   "execution_count": 10,
   "metadata": {},
   "outputs": [],
   "source": [
    "output_file = '7 output/bipartite_network_aproved_LCC.graphml'\n",
    "nx.write_graphml(B, output_file)"
   ]
  },
  {
   "cell_type": "markdown",
   "metadata": {},
   "source": [
    "# Save dataset"
   ]
  },
  {
   "cell_type": "code",
   "execution_count": 11,
   "metadata": {},
   "outputs": [],
   "source": [
    "geneDrugDf=geneDrugDf.sort_values(by=[\"gene\",\"indication\"])\n",
    "geneDrugDf.reset_index(inplace=True)\n",
    "geneDrugDf.index += 1\n",
    "geneDrugDf[\"interaction score\"]=geneDrugDf[\"interaction score\"].round(4)"
   ]
  },
  {
   "cell_type": "code",
   "execution_count": 12,
   "metadata": {},
   "outputs": [],
   "source": [
    "geneDrugDf.to_csv(\"7 output/geneDrug.csv\",sep=\";\")"
   ]
  }
 ],
 "metadata": {
  "kernelspec": {
   "display_name": "base",
   "language": "python",
   "name": "python3"
  },
  "language_info": {
   "codemirror_mode": {
    "name": "ipython",
    "version": 3
   },
   "file_extension": ".py",
   "mimetype": "text/x-python",
   "name": "python",
   "nbconvert_exporter": "python",
   "pygments_lexer": "ipython3",
   "version": "3.11.7"
  }
 },
 "nbformat": 4,
 "nbformat_minor": 2
}
